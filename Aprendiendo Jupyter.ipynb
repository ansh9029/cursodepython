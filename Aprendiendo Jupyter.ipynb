{
 "cells": [
  {
   "cell_type": "markdown",
   "metadata": {},
   "source": [
    "# Aprendiendo Jupyter\n",
    "\n",
    "Jupyter es un proyecto derivado de IPython que permite la creación de **libretas** (notebooks) interactivas, esto es, hipertextos mezclados con código ejecutable.\n",
    "\n",
    "Inicialmente IPython fue desarrollado para el lenguaje Python, sin embargo Jupyter soporta ya varios otros lenguajes y ambientes de desarrollo (llamados kernels) los cuales incluyen R, Julia and Scala.\n",
    "\n",
    "Jupyter está patrocinado por empresas como Google y Microsoft, y por instituciones públicas como la Universidad de California en Berkeley.\n",
    "\n",
    "Nota: se puede consultar un manual de Jupyter de esta dirección: [https://athena.brynmawr.edu/jupyter/hub/dblank/public/Jupyter%20Notebook%20Users%20Manual.ipynb](https://athena.brynmawr.edu/jupyter/hub/dblank/public/Jupyter%20Notebook%20Users%20Manual.ipynb)"
   ]
  },
  {
   "cell_type": "markdown",
   "metadata": {},
   "source": [
    "## Ejecutando Jupyter\n",
    "Aquí veremos la ejecución de Jupyter con el kernel de Python.\n",
    "\n",
    "Una vez instalado, desde una terminal se puede teclear `jupyter notebook` para iniciar directamente con las libretas Esto crea una *libreta*, la cual es un archivo (internamente usa XML para almacenarse) con extensión `.ipynb` que se visualiza normalmente en un navegador, por lo que al teclear `jupyter notebook`se abrirá el navegador y el logotipo y menús de Jupyter.\n",
    "\n",
    "<img src=\"img/menu_jupyter.png\" width=70%>\n",
    "\n",
    "Se puede abrir también una terminal gráfica con otras opciones, ver `jupyter --help` para más opciones."
   ]
  },
  {
   "cell_type": "markdown",
   "metadata": {},
   "source": [
    "Lo primero que aparece es el árbol de archivos y directorios de la trayectoria donde se haya abierto Jupyter. De ahí se puede seleccionar una libreta ya creada o crear una nueva en el menú Files. Podemos crear una nueva libreta con el botón new o subir un archivo como libreta con el botón upload.\n",
    "\n",
    "Para entrar, también podemos abrir directamente una libreta con\n",
    "\n",
    "`jupyter notebook nombre_de_libreta.ipynb`. \n",
    "\n",
    "Una vez dentro de una libreta, con el menú `File` podemos crear otra libreta con `New notebook >> Python 3`.\n",
    "\n",
    "Luego del logotipo de Jupyter, viene el nombre del archivo y un mensaje de la última vez que se auto-guardó la libreta, lo cual sucede bastante seguido. El hacer doble click sobre el nombre de la libreta, provoca que se le pueda modificar.\n",
    "\n",
    "Luego viene un menú: File, Edit, View, Insert, Cell, Kernel, Help.\n",
    "\n",
    "Podemos escribir en cada *celda*, la cual puede ser de tipo\n",
    "\n",
    "* código\n",
    "* markdown\n",
    "\n",
    "entre otros.\n",
    "\n",
    "Usaremos una celda tipo código para escribir instrucciones en Python y sus bibliotecas. Por otra parte, usaremos *markdown* para escribir textos con dicho formato, el cual es una forma de HTML simplificado.\n",
    "\n",
    "Se puede ver un breve tutorial de markdown en [https://www.youtube.com/watch?v=TtSWo2nbzAk](https://www.youtube.com/watch?v=TtSWo2nbzAk), aunque aquí incluiré las instrucciones más utilizadas."
   ]
  },
  {
   "cell_type": "markdown",
   "metadata": {},
   "source": [
    "## Breve tutorial de markdown"
   ]
  },
  {
   "cell_type": "markdown",
   "metadata": {},
   "source": [
    "Antes que nada, puedes usar esta libreta como ejemplo. Haz doble click en un párrafo para ver el código de la celda a la que pertenece. Por ejemplo esta celda es de sólo texto, ya que el default para una celda es ser de código, puedes pasarla a que sea de texto con el menú code > markdown > raw nbconvert. Otra forma es aprenderse el atajo de teclado, en este caso: ESC m\n",
    "Para que Jupyter interprete la celda, presiona SHIFT ENTER  (juntos)"
   ]
  },
  {
   "cell_type": "markdown",
   "metadata": {},
   "source": [
    "Una celda de código tiene al inicio \"In []\", y luego de interpretarla aparece un número dentro de los corchetes.\n",
    "Por ejemplo, la siguiente celda contiene código de Python:"
   ]
  },
  {
   "cell_type": "code",
   "execution_count": 4,
   "metadata": {
    "collapsed": false
   },
   "outputs": [
    {
     "name": "stdout",
     "output_type": "stream",
     "text": [
      "5\n"
     ]
    }
   ],
   "source": [
    "print(2+3)"
   ]
  },
  {
   "cell_type": "code",
   "execution_count": 5,
   "metadata": {
    "collapsed": false
   },
   "outputs": [
    {
     "data": {
      "text/plain": [
       "5"
      ]
     },
     "execution_count": 5,
     "metadata": {},
     "output_type": "execute_result"
    }
   ],
   "source": [
    "# Puedes comentar con un gato dentro de una celda de código, modifica este código\n",
    "# y presiona SHIFT ENTER para ver el resultado.\n",
    "2+3"
   ]
  },
  {
   "cell_type": "markdown",
   "metadata": {},
   "source": [
    "Puedes usar los menus para agregar, borrar o mover celdas, pero de nuevo con el uso uso, puedes ir aprendiendo los \"keyboard shortcuts\" (puedes ver la lista de estos atajos en el menú Help > Keyboard Shortcuts."
   ]
  },
  {
   "cell_type": "markdown",
   "metadata": {},
   "source": [
    "En markdown, puedes crear párrafos de diferentes tamaños de letra (títulos, subtitulos, etc.):\n",
    "(dále doble click a esta celda para ver como se hizo)\n",
    "\n",
    "# Título\n",
    "## Subtítulo\n",
    "### Subtítulo de 2 nivel\n",
    "#### Subtítulo de 3 nivel"
   ]
  },
  {
   "cell_type": "markdown",
   "metadata": {},
   "source": [
    "Nota: el markdown de Jupyter, requiere un espacio después de los signos de #, esto no es necesario en otros markdown.\n",
    "También puedes crear listas:\n",
    "\n",
    "* ios\n",
    "* android\n",
    "* windows\n",
    "  * sublista\n",
    "  * otra\n",
    "  \n",
    "\n",
    "1. primero\n",
    "1. segundo\n",
    "1. tercero\n",
    " 1. primo\n",
    " 1. segundo\n",
    "\n",
    "Nota: en el markdown de Jupyter, hay que separar una lista del párrafo anterior con una línea en blanco. También hay que separar dos listas no conectadas con dos líneas en blanco. Las sublistas llevan un par de espacios antes. Después del asterisco o el número y punto debe ir un espacio. Nota que es indistinto usar consecutivos o el mismo número, o incluso otro órden, markdown ajusta las listas numeradas. **Negritas** y *cursivas* requieren rodearse de asteríscos."
   ]
  },
  {
   "cell_type": "markdown",
   "metadata": {},
   "source": [
    "Puedes poner ligas o hipervínculos con el texto a ligar entre corchetes seguido de la liga entre paréntesis. Ejemplo: [Google](http://www.google.com)\n",
    "\n",
    "Puedes incluir imágenes con signo de admiración y de nuevo corchetes y paréntesis: ![flor](img/flor.gif)\n",
    "\n",
    "También puedes usar etiquetas de html como &lt;img src=\"img/flor.gif\" width=30%&gt;, con la ventaja que es más ajustable:\n",
    "<img src=\"img/flor.gif\" width=30%>\n",
    "\n",
    "Nota: para ver un tutorial de HTML, que es el lenguaje de creación de páginas web estáticas, ver [aquí](http://www.w3schools.com/html/default.asp)."
   ]
  },
  {
   "cell_type": "markdown",
   "metadata": {},
   "source": [
    "También se pueden teclear instrucciones de LaTeX, para poner ecuaciones y otros símbolos matemáticos en modo markdown de la celda, rodeándolos por signos $ (esto no todos los markdown lo tienen como en Jupyter). Ejemplo:\n",
    "\n",
    "$$x = \\frac{-b \\pm \\sqrt{b^2-4ac}}{2a}$$\n",
    "\n",
    "Se puede ver un tutorial simple de LaTeX [aquí](https://www.latex-tutorial.com/tutorials/)."
   ]
  },
  {
   "cell_type": "markdown",
   "metadata": {},
   "source": [
    "Existen varios editores que te permiten teclear markdown independientemente de Jupyter, mostrándote como se vé interpretado, hay los que generan PDF o HTML a partir de markdown, etc. Aunque también se puede escribir markdown con un simple *block de notas*. Algunos de estos son el Macdown, nvALT, etc."
   ]
  }
 ],
 "metadata": {
  "kernelspec": {
   "display_name": "Python 3",
   "language": "python",
   "name": "python3"
  },
  "language_info": {
   "codemirror_mode": {
    "name": "ipython",
    "version": 3
   },
   "file_extension": ".py",
   "mimetype": "text/x-python",
   "name": "python",
   "nbconvert_exporter": "python",
   "pygments_lexer": "ipython3",
   "version": "3.4.2"
  }
 },
 "nbformat": 4,
 "nbformat_minor": 0
}
