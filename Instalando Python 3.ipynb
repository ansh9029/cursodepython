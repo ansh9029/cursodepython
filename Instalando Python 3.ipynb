{
 "cells": [
  {
   "cell_type": "markdown",
   "metadata": {},
   "source": [
    "# Instalando Python 3 y bibliotecas auxiliares para el manejo de datos\n",
    "\n",
    "## Instalación de Python básico \n",
    "\n",
    "la última version de Python, hasta septiembre de 2016 es la 3.5.2\n",
    "\n",
    "### Instalación para Windows\n",
    "\n",
    "**NOTA: Anaconda es una distribución que incluye varios módulos para Python, tiene un IDE y un instalador de paquetes. Aquí sin embargo estaremos utilizando la versión original básica de Python directamente del sitio de los desarrolladores. Considero que es mejor instalar sólo lo que necesitarás y cuando lo necesitarás, lo cual sólo es posible con esta versión básica.**\n",
    "\n",
    "1. Conectarse a https://www.python.org\n",
    "2. En los menús, seleccionar `Downloads` y luego `Windows`\n",
    "<img src=\"img/python.org_pantalla_inicial.png\" width=50%>\n",
    "3. En la lista, escoger `Latest Python 3 Release - Python 3.5.2`\n",
    "<img src=\"img/python_releases.png\" width=50%>\n",
    "3. Bajar hasta la sección `Files` y ahí escoger `Windows x86-64 executable installer`\n",
    "<img src=\"img/version_de_instalador.png\" width=50%>\n",
    "4. En la ventana que aparece, escoger `Ejecutar`\n",
    "<img src=\"img/ejecutar.png\" width=50%>\n",
    "5. En la siguiente ventana **Hacer click en Add python.exe to path** y luego `Install now`\n",
    "6. Si lo pide, seleccionar `Permitir que el programa realice cambios en el equipo`\n",
    "7. Seleccionar `Close`\n",
    "\n",
    "Con estos pasos se instalará el Python 3.5 (64 bits) (versión actual a 15 de septiembre de 2016, **no se recomienda todavía la versión 3.6 por ser inestable**).\n",
    "\n",
    "El programa ejecutable que deja en el menú de Windows (`Python 3.5`) es **la consola** de Python.\n",
    "\n",
    "También se instalará en la carpeta Python 3.5 el programa **IDLE** que es un ambiente de programación muy sencillo, así como la documentación de Python y sus módulos básicos.\n",
    "\n",
    "Nota: El Python así instalado ya se puede ejecutar y se puede programar con un editor o un Ambiente Integrado de Desarrollo (IDE), como por ejemplo PyCharm (recomendado), Komodo, Geany, etc. Nosotros utilizaremos el ambiente de libretas **Jupyter**, por ser muy flexible y útil para exposiciones."
   ]
  },
  {
   "cell_type": "markdown",
   "metadata": {},
   "source": [
    "## Instalación de Jupyter\n",
    "\n",
    "### Instalación para Windows\n",
    "\n",
    "**NOTA: Algunas versiones de Internet Explorer no soportan al Jupyter, por lo que se recomienda bajar e instalar otro navegador como el Chrome, antes de estos pasos.**\n",
    "\n",
    "1. Abrir una terminal de Windows\n",
    "<img src=\"img/cmd.png\" width=30%>\n",
    "2. Ejecutar en terminal: `pip3 install --upgrade pip`  (ignorar los mensajes de error, si es que salen)\n",
    "<img src=\"img/en_terminal.png\" width=50%>\n",
    "3. Ejecutar en terminal: `pip3 install jupyter`\n",
    "4. Ejecutar `pip3 install --upgrade jupyter`\n",
    "5. Ejecutar en terminal: `jupyter notebook`  (de ser necesario, seleccionar `Habilitar configuración de intranet`)\n",
    "\n",
    "Esto abrirá una ventana del internet explorer o el navegador que se tenga predeterminado."
   ]
  },
  {
   "cell_type": "markdown",
   "metadata": {},
   "source": [
    "## Instalación de módulos auxiliares\n",
    "\n",
    "### Instalación para Windows\n",
    "\n",
    "**NOTA: Este manejo de terminal, aunque te pueda parecer un poco \"rústico\" por no usar ventanas, es la forma estándar de proceder en todos los sistemas operativos, por ello la prefiero a otros instaladores que no se sabe lo que sucede exactamente en el fondo.**\n",
    "\n",
    "1. Abrir una terminal\n",
    "<img src=\"img/cmd.png\" width=30%>\n",
    "2. `pip3 install matplotlib`\n",
    "5. `pip3 install html5lib`\n",
    "6. `pip3 install bs4`\n",
    "7. `pip3 install quandl        <---` esto también instala pandas!\n",
    "2. Conectarse con el navegador a http://www.lfd.uci.edu/~gohlke/pythonlibs/ y descargar las últimas versiones (NO RC) de numpy+mkl scikit-learn y scipy.\n",
    "Por ejemplo, para Numpy el archivo a descargar es el de la 6a línea, pues es el último de los que dicen \"numpy-1.11.1+mkl-...\" en su nombre, los que siguen tienen \"rc1\" que significa *release candidate* uno, o sea, candidato a liberarse, primera etapa. En otras palabras, los de versión 1.11.2 aún no son estables.\n",
    "<img src=\"img/numpy.png\" width=70%>\n",
    "1. Luego instalarlos con pip3:\n",
    " 1. `pip3 install numpy-1.11.1+mkl-cp35-cp35m-win_amd64.whl`\n",
    " 2. `pip3 install scipy-0.18.0-cp35-cp35m-win_amd64.whl`\n",
    " 3. `pip3 install scikit_learn-0.17.1-cp35-cp35m-win_amd64.whl`\n",
    " 4. `pip3 install lxml-3.6.4-cp35-cp35m-win_amd64.whl`\n",
    "1. `pip3 install sklearn-pandas`\n",
    "1. `pip3 install openpyxl`\n",
    "1. `pip3 install xlrd`\n",
    "\n",
    "Numpy, scipy y sklearn contienen rutinas en C que deben ser compiladas apropiadamente, como esto es más complicado de lo que se necesita aquí, bajamos los binarios del sitio de Gohlke que, aunque no oficial, es el recomendado para ello."
   ]
  },
  {
   "cell_type": "markdown",
   "metadata": {},
   "source": [
    "## Verificación del funcionamiento\n",
    "\n",
    "1. Abrir una terminal\n",
    "2. Teclear python, esto debe mostrar la versión instalada y el \"prompt\" >>>, indicando que la consola de Python está lista para recibir instrucciones. En general no utilizaremos la consola de Python, pero aquí es útil para ver que los módulos fueron instalados.\n",
    "3. En el prompt de python teclear:\n",
    " 1. `import numpy`\n",
    " 2. `import matplotlib`\n",
    " 3. `import quandl`\n",
    " 4. `import sklearn_pandas`   ( o `import sklearn` )\n",
    "<img src=\"img/python_entrada.png\" width=70%>\n",
    " 5. `import openpyxl`\n",
    " 6. `import xlrd`\n",
    "\n",
    "Si no marca ningún error, es que todo estuvo bien instalado."
   ]
  },
  {
   "cell_type": "code",
   "execution_count": null,
   "metadata": {
    "collapsed": true
   },
   "outputs": [],
   "source": []
  }
 ],
 "metadata": {
  "kernelspec": {
   "display_name": "Python 3",
   "language": "python",
   "name": "python3"
  },
  "language_info": {
   "codemirror_mode": {
    "name": "ipython",
    "version": 3
   },
   "file_extension": ".py",
   "mimetype": "text/x-python",
   "name": "python",
   "nbconvert_exporter": "python",
   "pygments_lexer": "ipython3",
   "version": "3.4.2"
  }
 },
 "nbformat": 4,
 "nbformat_minor": 0
}
